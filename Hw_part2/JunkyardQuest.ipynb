{
 "cells": [
  {
   "cell_type": "markdown",
   "metadata": {},
   "source": [
    "# Homework1: Part 2"
   ]
  },
  {
   "cell_type": "markdown",
   "metadata": {},
   "source": [
    "## Junkyard Quest\n",
    "\n",
    "Complete the quest and escape from this abandoned junkyard! Player must find a way to escape in time in order to reconnect with man kind! "
   ]
  },
  {
   "cell_type": "markdown",
   "metadata": {},
   "source": [
    "### Import Text Adventures"
   ]
  },
  {
   "cell_type": "code",
   "execution_count": 1,
   "metadata": {},
   "outputs": [],
   "source": [
    "from text_adventure_games import (\n",
    "    games, parsing, actions, things, blocks, viz\n",
    ")"
   ]
  },
  {
   "cell_type": "markdown",
   "metadata": {},
   "source": [
    "## Locations"
   ]
  },
  {
   "cell_type": "code",
   "execution_count": 2,
   "metadata": {},
   "outputs": [],
   "source": [
    "\n",
    "phone_booth = things.Location(\n",
    "    \"Phone booth\",\n",
    "    \"You are standing in a rusted Phonebooth.\"\n",
    ")\n",
    "gravel_path = things.Location(\n",
    "    \"Gravel Path\",\n",
    "    \"You are standing on a dusty gravel path, there is a Junkyard here\",\n",
    ")\n",
    "junkyard = things.Location(\n",
    "    \"Junkyard\",\n",
    "    \"You are in a junkyard.\"\n",
    ")\n",
    "dirt_path = things.Location(\n",
    "    \"dirt Path\",\n",
    "    \"You are walking along a dirt path. There is a garage here.\",\n",
    ")\n",
    "garage = things.Location(\n",
    "    \"garage\",\n",
    "    \"You are in the garage.\"\n",
    ")\n",
    "concrete_path = things.Location(\n",
    "    \"concrete path\",\n",
    "    \"You are standing on the concrete path leading to the Office.\",\n",
    ")\n",
    "office = things.Location(\n",
    "    \"Office\",\n",
    "    \"You are in the Office.\"\n",
    ")\n",
    "death = things.Location(\n",
    "    \"The Afterlife\",\n",
    "    \"You are dead. GAME OVER.\"\n",
    ")\n",
    "death.set_property(\"game_over\", True)\n",
    "\n",
    "\n",
    "\n",
    "# Map of Locations\n",
    "gravel_path.add_connection(\"south\",junkyard)\n",
    "gravel_path.add_connection(\"north\", phone_booth)\n",
    "junkyard.add_connection(\"north\", gravel_path)\n",
    "junkyard.add_connection(\"east\",dirt_path)\n",
    "garage.add_connection(\"west\", dirt_path)\n",
    "dirt_path.add_connection(\"west\",junkyard)\n",
    "junkyard.add_connection(\"west\", concrete_path)\n",
    "concrete_path.add_connection(\"west\", office)\n",
    "concrete_path.add_connection(\"east\", junkyard)\n",
    "\n",
    "\n",
    "\n"
   ]
  },
  {
   "cell_type": "markdown",
   "metadata": {},
   "source": [
    "###  Preliminary Game Map\n",
    "\n",
    "Here is a visualization of the locations in action castle represented as a directed graph.\n",
    "\n",
    "![Visualization of game map starting from the tower](../map-from-tower.svg)"
   ]
  },
  {
   "cell_type": "code",
   "execution_count": null,
   "metadata": {},
   "outputs": [],
   "source": [
    "tempgame = games.Game(phone_booth, things.Character(name=\"Temp Player\", description=\"\", persona=\"\"))\n",
    "\n",
    "from text_adventure_games.viz import Visualizer\n",
    "viz = Visualizer(tempgame)\n",
    "graph = viz.visualize()\n",
    "graph"
   ]
  },
  {
   "cell_type": "markdown",
   "metadata": {},
   "source": [
    "## Items"
   ]
  },
  {
   "cell_type": "markdown",
   "metadata": {},
   "source": [
    "### Gettable Items"
   ]
  },
  {
   "cell_type": "code",
   "execution_count": 4,
   "metadata": {},
   "outputs": [],
   "source": [
    "# screwdriver in the phone booth\n",
    "screw_driver= things.Item(\n",
    "    \"screw driver\",\n",
    "    \"a screwdriver\",\n",
    "    \"A SIMPLE SCREW DRIVER.\",\n",
    ")\n",
    "phone_booth.add_item(screw_driver)\n",
    "\n",
    "\n",
    "# keys to the cars in the junkyard \n",
    "car_key = things.Item(\n",
    "    \"car key\",\n",
    "    \"a single car key\",\n",
    "    \"IT LOOKS THIS BELONGS TO A CAR.\",\n",
    ")\n",
    "office.add_item(car_key)\n",
    "\n",
    "#keys to unlock the office door\n",
    "door_key = things.Item(\n",
    "    \"door key\", \n",
    "    \"A single door key\", \n",
    "    \"IT LOOKS LIKE THIS KEY COULD FIT IN A DOOR KNOB\"\n",
    ")\n",
    "garage.add_item(door_key)\n",
    "\n",
    "\n",
    "# fuel can for the cars in the junkyard \n",
    "fuel_can = things.Item(\n",
    "    \"fuel can\",\n",
    "    \"a fuel can filled with gasoline\",\n",
    "    \"THE FUEL CAN CONTAINS GASOLINE FOR CARS.\",\n",
    ")\n",
    "garage.add_item(fuel_can)\n",
    "\n",
    "fuel_can.add_command_hint(\"fill into car\")\n",
    "car_key.add_command_hint(\"start car\")\n"
   ]
  },
  {
   "cell_type": "markdown",
   "metadata": {},
   "source": [
    "### Scenery Items\n",
    "\n",
    "_We called these \"non-gettable\" in the tutorial_"
   ]
  },
  {
   "cell_type": "code",
   "execution_count": 5,
   "metadata": {},
   "outputs": [],
   "source": [
    "\n",
    "\n",
    "# A rusted car that needs fuel and keys\n",
    "rusted_car = things.Item(\n",
    "    \"rusted car\",\n",
    "    \"a rusted old car\",\n",
    "    \"THE RUSTED CAR LOOKS LIKE IT COULD DRIVE.\",\n",
    ")\n",
    "rusted_car.set_property(\"gettable\", False)\n",
    "rusted_car.set_property(\"has_fuel\", False)\n",
    "rusted_car.set_property(\"has_key\", False)\n",
    "rusted_car.set_property(\"running\", False)\n",
    "rusted_car.add_command_hint(\"Put in fuel\")\n",
    "rusted_car.add_command_hint(\"Put in key\")\n",
    "junkyard.add_item(rusted_car)\n",
    "\n",
    "\n",
    "# A door that leads to the office\n",
    "door = things.Item(\n",
    "    \"door\",\n",
    "    \"a door\",\n",
    "    \"THE DOOR IS SECURELY LOCKED.\"\n",
    ")\n",
    "door.set_property(\"gettable\", False)\n",
    "door.set_property(\"is_locked\", True)\n",
    "door.add_command_hint(\"unlock door\")\n",
    "concrete_path.add_item(door)\n"
   ]
  },
  {
   "cell_type": "markdown",
   "metadata": {},
   "source": [
    "## Characters"
   ]
  },
  {
   "cell_type": "markdown",
   "metadata": {},
   "source": [
    "### Player"
   ]
  },
  {
   "cell_type": "code",
   "execution_count": 6,
   "metadata": {},
   "outputs": [],
   "source": [
    "# Player\n",
    "player = things.Character(\n",
    "    name=\"The player\",\n",
    "    description=\"You are a simple peasant destined for greatness.\",\n",
    "    persona=\"I am on an adventure.\",\n",
    ")\n",
    "\n",
    "# Player's flash light\n",
    "flashlight = things.Item(\"flashlight\", \"a flashlight\", \"A the flash who creates light.\")\n",
    "flashlight.set_property(\"is_lightable\", True)\n",
    "flashlight.set_property(\"is_lit\", False)\n",
    "flashlight.add_command_hint(\"light lamp\")\n",
    "player.add_to_inventory(flashlight)\n",
    "player.set_property(\"driving_car\", False)\n",
    "player.set_property(\"electricuted\", False)"
   ]
  },
  {
   "cell_type": "markdown",
   "metadata": {},
   "source": [
    "## Actions"
   ]
  },
  {
   "cell_type": "markdown",
   "metadata": {},
   "source": [
    "The player can:\n",
    "\n",
    "- Unlock a door\n",
    "- Put fuel into a car \n",
    "- Put keys into a door or a car\n",
    "- Use the screwdriver to fix the car "
   ]
  },
  {
   "cell_type": "code",
   "execution_count": 7,
   "metadata": {},
   "outputs": [],
   "source": [
    "class Unlock_Door(actions.Action):\n",
    "    ACTION_NAME = \"unlock door\"\n",
    "    ACTION_DESCRIPTION = \"Unlock a door with a key\"\n",
    "    ACTION_ALIASES = []\n",
    "    \n",
    "    def __init__(self, game, command):\n",
    "        super().__init__(game)\n",
    "        self.character = self.parser.get_character(command)\n",
    "        self.key = door_key\n",
    "        self.door = door\n",
    "\n",
    "    def check_preconditions(self) -> bool:\n",
    "        \"\"\"\n",
    "        Preconditions:\n",
    "        * There must be a door\n",
    "        * The character must be at the same location as the door\n",
    "        * The door must be locked\n",
    "        * The character must have the key in their inventory\n",
    "        \"\"\"\n",
    "        if self.door and self.character.location.here(self.door):\n",
    "            if self.key and self.door.get_property(\"is_locked\"): \n",
    "                return True\n",
    "            else: \n",
    "                return False\n",
    "        \n",
    "        return False  \n",
    "\n",
    "    def apply_effects(self):\n",
    "        \"\"\"\n",
    "        Effects:\n",
    "        * Unlocks the door\n",
    "        \"\"\"\n",
    "        door.set_property(\"is_locked\",False)\n",
    "        self.parser.ok(\"Door is unlocked\")"
   ]
  },
  {
   "cell_type": "code",
   "execution_count": 8,
   "metadata": {},
   "outputs": [],
   "source": [
    "class Enter_fuel(actions.Action):\n",
    "    \"\"\"\n",
    "    Entering fuel into the car can help the car turn on. Once the car's engine is on, the car can be driven\n",
    "    \"\"\"\n",
    "    ACTION_NAME = \"enter fuel\"\n",
    "    ACTION_DESCRIPTION = \"Enters fuel into vehicle\"\n",
    "    ACTION_ALIASES = []\n",
    "\n",
    "    def __init__(self, game, command):\n",
    "        super().__init__(game)\n",
    "        self.character: things.Character = self.parser.get_character(command)\n",
    "        self.fuel_can: things.Item = fuel_can\n",
    "        self.rusted_car: things.Item = rusted_car        \n",
    "\n",
    "    def check_preconditions(self) -> bool:\n",
    "        \"\"\"\n",
    "        Preconditions:\n",
    "        * There must be a fuel can\n",
    "        * The character must have the fuel can in their inventory\n",
    "        * the rusted car must be here (junkyard)\n",
    "        \"\"\"\n",
    "        if self.fuel_can and self.character.is_in_inventory(self.fuel_can):\n",
    "            if self.character.location.here(self.rusted_car):\n",
    "                return True\n",
    "\n",
    "        return False\n",
    "\n",
    "    def apply_effects(self):\n",
    "        \"\"\"\n",
    "        Effects:\n",
    "        * Enters fuel into the car\n",
    "        \"\"\"\n",
    "        self.rusted_car.set_property(\"has_fuel\", True)\n",
    "        print(\"Fuel has been entered into the car.\")\n",
    "        print(\"Car now has sufficient Fuel to start.\")\n"
   ]
  },
  {
   "cell_type": "code",
   "execution_count": 9,
   "metadata": {},
   "outputs": [],
   "source": [
    "class Enter_key(actions.Action):\n",
    "    \"\"\"\n",
    "    Enter the car keys into the ignition. Doing this without adding fuel will result in the car exploding.\n",
    "    \"\"\"\n",
    "    ACTION_NAME = \"enter key\"\n",
    "    ACTION_DESCRIPTION = \"Enter key into car's ignition\"\n",
    "    ACTION_ALIASES = []\n",
    "\n",
    "\n",
    "    def __init__(self, game, command):\n",
    "        super().__init__(game)\n",
    "        self.character: things.Character = self.parser.get_character(command)\n",
    "        self.car_key: things.Item = car_key\n",
    "        self.rusted_car: things.Item = rusted_car\n",
    "\n",
    "    def check_preconditions(self) -> bool:\n",
    "        \"\"\"\n",
    "        Preconditions:\n",
    "        * The car key must exist and be in inventory \n",
    "        * The rusted car must be present in the location\n",
    "        \"\"\"\n",
    "        if self.car_key and self.character.is_in_inventory(self.car_key):\n",
    "            if self.character.location.here(self.rusted_car):\n",
    "                return True\n",
    "\n",
    "        return False\n",
    "\n",
    "    def apply_effects(self):\n",
    "        \"\"\"\n",
    "        Effects:\n",
    "        * The car now has keys in it's ignition. \n",
    "        \"\"\"\n",
    "        self.rusted_car.set_property(\"has_key\",True)\n",
    "        print(\"The key has been placed into the car's ignition.\")\n",
    "        print(\"The key can turn the car on.\")\n",
    "\n"
   ]
  },
  {
   "cell_type": "code",
   "execution_count": 10,
   "metadata": {},
   "outputs": [],
   "source": [
    "class Start_car(actions.Action):\n",
    "    ACTION_NAME = \"start car\"\n",
    "    ACTION_DESCRIPTION = \"Start the vehicle in hopes to drive and escape the spooky junkyard\"\n",
    "    ACTION_ALIASES = []\n",
    "    \n",
    "    def __init__(self, game, command):\n",
    "        super().__init__(game)\n",
    "        self.character: things.Character = self.parser.get_character(command)\n",
    "        self.rusted_car: things.Item = rusted_car\n",
    "        self.fuel_can: things.Item = fuel_can\n",
    "        self.car_key: things.Item = car_key\n",
    "\n",
    "    def check_preconditions(self) -> bool:\n",
    "        \"\"\"\n",
    "        Preconditions:\n",
    "        * The car must exist\n",
    "        * The car must have either the the key or fuel\n",
    "        * The player must be at the car's location \n",
    "        \"\"\"\n",
    "        if self.rusted_car: \n",
    "            if self.rusted_car.get_property(\"has_fuel\") or self.rusted_car.get_property(\"has_key\"):\n",
    "                return True \n",
    "\n",
    "        return False\n",
    "\n",
    "    def apply_effects(self):\n",
    "        if self.rusted_car.get_property(\"has_fuel\") and self.rusted_car.get_property(\"has_key\"):\n",
    "            self.rusted_car.set_property(\"running\", True)\n",
    "            self.character.set_property(\"driving_car\", True)\n",
    "            print(\"You have successfully started the car!\")\n",
    "        if self.rusted_car.get_property(\"has_key\") and (not(self.rusted_car.get_property(\"has_fuel\"))):\n",
    "            print(\"Uh oh... starting the car without fuel caused the keys to have electrical charge...\")\n",
    "            self.character.set_property(\"electricuted\", True)\n",
    "\n"
   ]
  },
  {
   "cell_type": "markdown",
   "metadata": {},
   "source": [
    "## Blocks\n",
    "\n",
    "In text adventure games, _blocks_ are essentially puzzles to unlock the next stage in the game.\n",
    "\n",
    "There is a locked door that blocks the player from entering the office. "
   ]
  },
  {
   "cell_type": "code",
   "execution_count": 11,
   "metadata": {
    "collapsed": false
   },
   "outputs": [],
   "source": [
    "class Door_Block(blocks.Block):\n",
    "    \"\"\"\n",
    "    Blocks progress in this direction until the character unlocks the door.\n",
    "    \"\"\"\n",
    "\n",
    "    def __init__(self, location: things.Location, door: things.Item):\n",
    "        super().__init__(\"A locked door blocks your way\", \"The door ahead is locked.\")\n",
    "        self.location = location\n",
    "        self.door = door\n",
    "\n",
    "    def is_blocked(self) -> bool:\n",
    "        # Conditions of block:\n",
    "        # * The door is locked\n",
    "\n",
    "        if self.door.get_property(\"is_locked\"):\n",
    "            return True\n",
    "        if not self.door.get_property(\"is_locked\"):\n",
    "            return False\n",
    "        return True"
   ]
  },
  {
   "cell_type": "code",
   "execution_count": 12,
   "metadata": {},
   "outputs": [],
   "source": [
    "# adding the block in its location\n",
    "\n",
    "Door_block = Door_Block(concrete_path, door)\n",
    "concrete_path.add_block(\"west\", Door_block)\n"
   ]
  },
  {
   "cell_type": "markdown",
   "metadata": {},
   "source": [
    "## Play Action Castle"
   ]
  },
  {
   "cell_type": "code",
   "execution_count": 13,
   "metadata": {},
   "outputs": [],
   "source": [
    "class ActionCastle(games.Game):\n",
    "    def __init__(\n",
    "        self, start_at: things.Location, player: things.Character, characters=None,\n",
    "        custom_actions=None\n",
    "    ):\n",
    "        super().__init__(start_at, player, characters=characters, custom_actions=custom_actions)\n",
    "\n",
    "    def is_won(self) -> bool:\n",
    "        \"\"\" \n",
    "        Checks whether the game has been won. The game has been won if the player has started the car\n",
    "        and driven away. \n",
    "        \"\"\"\n",
    "        if self.player.get_property(\"electricuted\"):\n",
    "            \"Player was electricuted.... Game over.\"\n",
    "            return True \n",
    "\n",
    "        for name, character in self.characters.items():\n",
    "            if character.get_property(\"driving_car\"):\n",
    "                msg = \"{name} is driving the car and escaping the spooky junkyard \\n {name} has won the game!\"\n",
    "                self.parser.ok(msg.format(name=character.name.title()))\n",
    "                return True\n",
    "        return False"
   ]
  },
  {
   "cell_type": "code",
   "execution_count": 14,
   "metadata": {},
   "outputs": [],
   "source": [
    "characters = []\n",
    "custom_actions = [Unlock_Door, Enter_key, Enter_fuel, Start_car]\n",
    "\n",
    "# The Game\n",
    "game = ActionCastle(phone_booth, player, characters=characters, custom_actions=custom_actions)\n"
   ]
  },
  {
   "cell_type": "code",
   "execution_count": null,
   "metadata": {},
   "outputs": [],
   "source": [
    "game.game_loop()"
   ]
  }
 ],
 "metadata": {
  "kernelspec": {
   "display_name": "interfict",
   "language": "python",
   "name": "python3"
  },
  "language_info": {
   "codemirror_mode": {
    "name": "ipython",
    "version": 3
   },
   "file_extension": ".py",
   "mimetype": "text/x-python",
   "name": "python",
   "nbconvert_exporter": "python",
   "pygments_lexer": "ipython3",
   "version": "3.12.5"
  }
 },
 "nbformat": 4,
 "nbformat_minor": 2
}
